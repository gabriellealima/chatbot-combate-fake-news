{
  "cells": [
    {
      "cell_type": "markdown",
      "metadata": {
        "id": "view-in-github",
        "colab_type": "text"
      },
      "source": [
        "<a href=\"https://colab.research.google.com/github/gabriellealima/chatbot-combate-fake-news/blob/main/Chatbotde_Combate_a_Fake_News_2.ipynb\" target=\"_parent\"><img src=\"https://colab.research.google.com/assets/colab-badge.svg\" alt=\"Open In Colab\"/></a>"
      ]
    },
    {
      "cell_type": "code",
      "execution_count": null,
      "metadata": {
        "colab": {
          "base_uri": "https://localhost:8080/"
        },
        "id": "oU_37ChWn_j4",
        "outputId": "7ae83183-2952-42bd-ea47-536a744c2ffa"
      },
      "outputs": [
        {
          "name": "stdout",
          "output_type": "stream",
          "text": [
            "Requirement already satisfied: google-genai in /usr/local/lib/python3.11/dist-packages (1.15.0)\n",
            "Requirement already satisfied: anyio<5.0.0,>=4.8.0 in /usr/local/lib/python3.11/dist-packages (from google-genai) (4.9.0)\n",
            "Requirement already satisfied: google-auth<3.0.0,>=2.14.1 in /usr/local/lib/python3.11/dist-packages (from google-genai) (2.38.0)\n",
            "Requirement already satisfied: httpx<1.0.0,>=0.28.1 in /usr/local/lib/python3.11/dist-packages (from google-genai) (0.28.1)\n",
            "Requirement already satisfied: pydantic<3.0.0,>=2.0.0 in /usr/local/lib/python3.11/dist-packages (from google-genai) (2.11.4)\n",
            "Requirement already satisfied: requests<3.0.0,>=2.28.1 in /usr/local/lib/python3.11/dist-packages (from google-genai) (2.32.3)\n",
            "Requirement already satisfied: websockets<15.1.0,>=13.0.0 in /usr/local/lib/python3.11/dist-packages (from google-genai) (15.0.1)\n",
            "Requirement already satisfied: typing-extensions<5.0.0,>=4.11.0 in /usr/local/lib/python3.11/dist-packages (from google-genai) (4.13.2)\n",
            "Requirement already satisfied: idna>=2.8 in /usr/local/lib/python3.11/dist-packages (from anyio<5.0.0,>=4.8.0->google-genai) (3.10)\n",
            "Requirement already satisfied: sniffio>=1.1 in /usr/local/lib/python3.11/dist-packages (from anyio<5.0.0,>=4.8.0->google-genai) (1.3.1)\n",
            "Requirement already satisfied: cachetools<6.0,>=2.0.0 in /usr/local/lib/python3.11/dist-packages (from google-auth<3.0.0,>=2.14.1->google-genai) (5.5.2)\n",
            "Requirement already satisfied: pyasn1-modules>=0.2.1 in /usr/local/lib/python3.11/dist-packages (from google-auth<3.0.0,>=2.14.1->google-genai) (0.4.2)\n",
            "Requirement already satisfied: rsa<5,>=3.1.4 in /usr/local/lib/python3.11/dist-packages (from google-auth<3.0.0,>=2.14.1->google-genai) (4.9.1)\n",
            "Requirement already satisfied: certifi in /usr/local/lib/python3.11/dist-packages (from httpx<1.0.0,>=0.28.1->google-genai) (2025.4.26)\n",
            "Requirement already satisfied: httpcore==1.* in /usr/local/lib/python3.11/dist-packages (from httpx<1.0.0,>=0.28.1->google-genai) (1.0.9)\n",
            "Requirement already satisfied: h11>=0.16 in /usr/local/lib/python3.11/dist-packages (from httpcore==1.*->httpx<1.0.0,>=0.28.1->google-genai) (0.16.0)\n",
            "Requirement already satisfied: annotated-types>=0.6.0 in /usr/local/lib/python3.11/dist-packages (from pydantic<3.0.0,>=2.0.0->google-genai) (0.7.0)\n",
            "Requirement already satisfied: pydantic-core==2.33.2 in /usr/local/lib/python3.11/dist-packages (from pydantic<3.0.0,>=2.0.0->google-genai) (2.33.2)\n",
            "Requirement already satisfied: typing-inspection>=0.4.0 in /usr/local/lib/python3.11/dist-packages (from pydantic<3.0.0,>=2.0.0->google-genai) (0.4.0)\n",
            "Requirement already satisfied: charset-normalizer<4,>=2 in /usr/local/lib/python3.11/dist-packages (from requests<3.0.0,>=2.28.1->google-genai) (3.4.2)\n",
            "Requirement already satisfied: urllib3<3,>=1.21.1 in /usr/local/lib/python3.11/dist-packages (from requests<3.0.0,>=2.28.1->google-genai) (2.4.0)\n",
            "Requirement already satisfied: pyasn1<0.7.0,>=0.6.1 in /usr/local/lib/python3.11/dist-packages (from pyasn1-modules>=0.2.1->google-auth<3.0.0,>=2.14.1->google-genai) (0.6.1)\n"
          ]
        }
      ],
      "source": [
        "!pip install google-genai"
      ]
    },
    {
      "cell_type": "code",
      "execution_count": null,
      "metadata": {
        "id": "HPcNyaRqoaTW"
      },
      "outputs": [],
      "source": [
        "import os\n",
        "from google.colab import userdata\n",
        "import google.generativeai as genai\n",
        "\n",
        "os.environ['GOOGLE_API_KEY'] = userdata.get('GOOGLE_API_KEY')\n",
        "genai.configure(api_key=os.environ['GOOGLE_API_KEY'])"
      ]
    },
    {
      "cell_type": "code",
      "execution_count": null,
      "metadata": {
        "id": "bdTPC1myohNa"
      },
      "outputs": [],
      "source": [
        "modelo = \"models/gemini-2.0-flash\"\n",
        "model = genai.GenerativeModel(modelo)"
      ]
    },
    {
      "cell_type": "code",
      "execution_count": null,
      "metadata": {
        "id": "kTD-HHcnokTT"
      },
      "outputs": [],
      "source": [
        "# Célula 4: Definição do Prompt do Sistema\n",
        "prompt_sistema = \"\"\"\n",
        "Você é um chatbot gentil e paciente, especializado em ajudar pessoas com mais de 50 anos a identificar notícias que podem não ser verdadeiras (fake news).\n",
        "Seja claro, use uma linguagem simples e compreensível, como se estivesse conversando com um amigo. Lembre-se que nem sempre é fácil saber o que é verdade na internet, e seu objetivo é ajudar com carinho e cuidado.\n",
        "\n",
        "Quando alguém te perguntar sobre uma notícia:\n",
        "\n",
        "1. Ouça com atenção a pergunta ou a notícia que te apresentarem.\n",
        "2. **Tente verificar a informação em fontes confiáveis (como grandes portais de notícias esportivas, sites oficiais da confederação de futebol).**\n",
        "3. Avalie se a notícia parece suspeita com base em sinais de alerta (manchetes exageradas, erros de escrita, falta de fontes claras, pedidos urgentes de compartilhamento).\n",
        "4. **Se encontrar informação confiável que confirma ou nega a notícia, diga isso de forma clara e simples.**\n",
        "5. Se a notícia provavelmente não for verdadeira, explique suavemente o porquê, usando uma lista de sinais de alerta. Mencione exemplos de fontes confiáveis para comparação.\n",
        "6. Se não tiver certeza após uma breve verificação, diga que é importante ter cautela e procurar mais a fundo em fontes confiáveis (cite alguns exemplos como G1 Esporte, Lance!, Boatos.org) antes de acreditar ou compartilhar.\n",
        "7. Incentive a pessoa a perguntar e verificar sempre, mostrando que você está ali para ajudar, sem pressa.\n",
        "8. Use um tom amigável e acolhedor, mostrando compreensão pelas dificuldades em identificar notícias online.\n",
        "\n",
        "Exemplo de como responder (tente seguir essa estrutura):\n",
        "\n",
        "\"Hummm, essa história da [notícia]? 🤔\n",
        "\n",
        "[**Resposta direta sobre se é verdade ou não, baseada em fontes confiáveis, se encontradas rapidamente.** Ex: 'Pelo que vi em sites como o Globo Esporte, a camisa para a próxima temporada continua sendo a tradicional amarela.', OU 'Não encontrei nenhuma confirmação sobre uma mudança para vermelho em fontes oficiais.']\n",
        "\n",
        "Me parece um pouco estranha por alguns motivos:\n",
        "\n",
        "* [Ponto 1: Sinal de alerta de forma concisa]\n",
        "* [Ponto 2: Outro sinal de alerta de forma concisa]\n",
        "\n",
        "Para ter certeza, que tal darmos uma olhada juntos em sites como [exemplo de fonte confiável 1] ou [exemplo de fonte confiável 2]? Eles costumam ter informações verificadas. Fique à vontade para me perguntar sempre que tiver dúvidas!\"\n",
        "\"\"\""
      ]
    },
    {
      "cell_type": "code",
      "execution_count": null,
      "metadata": {
        "colab": {
          "background_save": true,
          "base_uri": "https://localhost:8080/"
        },
        "id": "zf7IfzPYopSW",
        "outputId": "b65abe8e-9138-4ea4-fbf6-b985a855a088"
      },
      "outputs": [
        {
          "name": "stdout",
          "output_type": "stream",
          "text": [
            "Olá! Sou seu chatbot para ajudar a identificar notícias falsas.\n",
            "Digite sua pergunta ou a notícia que quer verificar. Digite 'fim' para sair.\n"
          ]
        }
      ],
      "source": [
        "print(\"Olá! Sou seu chatbot para ajudar a identificar notícias falsas.\")\n",
        "print(\"Digite sua pergunta ou a notícia que quer verificar. Digite 'fim' para sair.\")\n",
        "\n",
        "while True:\n",
        "    mensagem_usuario = input(\"Você: \")\n",
        "    if mensagem_usuario.lower() == \"fim\":\n",
        "        break\n",
        "\n",
        "    # Enviar a mensagem do usuário para o Gemini COM o prompt do sistema\n",
        "    resposta = model.generate_content(\n",
        "        contents=[\n",
        "            prompt_sistema,  # Incluímos o prompt do sistema diretamente como uma string\n",
        "            mensagem_usuario\n",
        "        ]\n",
        "    )\n",
        "    print(\"Chatbot:\", resposta.text)\n",
        "    print(\"\\n\")"
      ]
    }
  ],
  "metadata": {
    "colab": {
      "provenance": [],
      "authorship_tag": "ABX9TyPKAIuUY51nXNxngHjUcWu/",
      "include_colab_link": true
    },
    "kernelspec": {
      "display_name": "Python 3",
      "name": "python3"
    },
    "language_info": {
      "name": "python"
    }
  },
  "nbformat": 4,
  "nbformat_minor": 0
}